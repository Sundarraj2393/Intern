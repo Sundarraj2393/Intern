{
  "nbformat": 4,
  "nbformat_minor": 0,
  "metadata": {
    "colab": {
      "provenance": [],
      "gpuType": "T4"
    },
    "kernelspec": {
      "name": "python3",
      "display_name": "Python 3"
    },
    "language_info": {
      "name": "python"
    },
    "accelerator": "GPU"
  },
  "cells": [
    {
      "cell_type": "code",
      "execution_count": null,
      "metadata": {
        "id": "1Ck5jHea5anf"
      },
      "outputs": [],
      "source": [
        "#To upload the Dataset\n",
        "import tensorflow as tf\n",
        "from tensorflow import keras\n",
        "import numpy as np\n",
        "import pandas as pd\n",
        "from keras import backend as K\n",
        "#for model Building\n",
        "#Sequential is to build the model layer by layer\n",
        "from keras.models import Sequential\n",
        "from keras.layers import Conv2D, MaxPooling2D\n",
        "#Dense is used to represents fully connected Layer\n",
        "from keras.layers import Dense, Dropout, Activation, Flatten\n",
        "import os\n",
        "import pathlib"
      ]
    },
    {
      "cell_type": "code",
      "source": [
        "#load the Dataset\n",
        "tf.keras.datasets.cifar100.load_data(label_mode='fine')"
      ],
      "metadata": {
        "id": "dXKoMI_s54Bk"
      },
      "execution_count": null,
      "outputs": []
    },
    {
      "cell_type": "code",
      "source": [
        "#Split the Dataset into Train and test\n",
        "(x_train, y_train), (x_test, y_test) = keras.datasets.cifar100.load_data()\n",
        "assert x_train.shape == (50000, 32, 32, 3)\n",
        "assert x_test.shape == (10000, 32, 32, 3)\n",
        "assert y_train.shape == (50000, 1)\n",
        "assert y_test.shape == (10000, 1)"
      ],
      "metadata": {
        "id": "kZghIrBA6KQv"
      },
      "execution_count": null,
      "outputs": []
    },
    {
      "cell_type": "code",
      "source": [
        "x_train[0]"
      ],
      "metadata": {
        "id": "iEcESIhmthqv"
      },
      "execution_count": null,
      "outputs": []
    },
    {
      "cell_type": "code",
      "source": [
        "import matplotlib.pyplot as plt\n",
        "def show_samples(data, labels):\n",
        "\tplt.subplots(figsize=(10, 10))\n",
        "\tfor i in range(12):\n",
        "\t\tplt.subplot(3, 4, i+1)\n",
        "\t\tk = np.random.randint(0, data.shape[0])\n",
        "\t\tplt.title(labels[k])\n",
        "\t\tplt.imshow(data[k])\n",
        "\tplt.show()\n",
        "show_samples(x_train, y_train)"
      ],
      "metadata": {
        "id": "MNamWb2X6qS8"
      },
      "execution_count": null,
      "outputs": []
    },
    {
      "cell_type": "code",
      "source": [
        "#assign the batch_size\n",
        "batchsize = 128\n",
        "#assign the number of classes\n",
        "num_classes = 100\n",
        "#define epoch\n",
        "epoch= 10\n",
        "#define rows and columns\n",
        "img_rows, img_cols = 32, 32"
      ],
      "metadata": {
        "id": "ZZxXCF6K6Qfx"
      },
      "execution_count": null,
      "outputs": []
    },
    {
      "cell_type": "markdown",
      "source": [
        "pre-prossesing"
      ],
      "metadata": {
        "id": "ZdkUNzj57aS9"
      }
    },
    {
      "cell_type": "code",
      "source": [
        "#Shape of the x_train data\n",
        "x_train.shape"
      ],
      "metadata": {
        "id": "qi33lA_S7wwm"
      },
      "execution_count": null,
      "outputs": []
    },
    {
      "cell_type": "code",
      "source": [
        "#Shape of the x_test data\n",
        "x_test.shape"
      ],
      "metadata": {
        "id": "J-BisDvN78c4"
      },
      "execution_count": null,
      "outputs": []
    },
    {
      "cell_type": "code",
      "source": [
        " # reshape the training datas and testing data\n",
        "new_shape = (50000, 32*32*3)\n",
        "new_shape1 = (10000, 32*32*3)\n",
        "x_train_reshaped = x_train.reshape(new_shape)\n",
        "x_test_reshaped = x_test.reshape(new_shape1)\n"
      ],
      "metadata": {
        "id": "NCRQxrwo65U0"
      },
      "execution_count": null,
      "outputs": []
    },
    {
      "cell_type": "code",
      "source": [
        "#Sequential is to build the model layer by layer\n",
        "model = tf.keras.models.Sequential()\n",
        "#First layer\n",
        "model.add(Conv2D(128, (3, 3), padding='same',input_shape=x_train.shape[1:]))\n",
        "model.add(Activation('relu'))\n",
        "#Hidden layer\n",
        "model.add(Conv2D(64, (3, 3), activation='relu'))\n",
        "model.add(Conv2D(32, (3, 3), activation='relu'))\n",
        "\n",
        "model.add(Conv2D(16, (3, 3), activation='relu'))\n",
        "#model.add(Conv2D(32, (3, 3), activation='relu'))\n",
        "\n",
        "#model.add(Conv2D(32, (3, 3), activation='relu'))\n",
        "#model.add(Conv2D(32, (3, 3), activation='relu'))\n",
        "\n",
        "#model.add(Conv2D(32, (3, 3), activation='relu'))\n",
        "#model.add(Conv2D(32, (3, 3), activation='relu'))\n",
        "#pooling layer\n",
        "model.add(MaxPooling2D(pool_size=(2, 2)))\n",
        "model.add(Dropout(0.25))\n",
        "model.add(Flatten())\n",
        "#dense is used to represents fully connected layer\n",
        "model.add(Dense(512))\n",
        "model.add(Activation('relu'))\n",
        "model.add(Dropout(0.5))\n",
        "model.add(Dense(num_classes))\n",
        "model.add(Activation('softmax'))"
      ],
      "metadata": {
        "id": "F5jPx44S7KfH"
      },
      "execution_count": null,
      "outputs": []
    },
    {
      "cell_type": "code",
      "source": [
        "#To show the denmenssions\n",
        "model.summary()"
      ],
      "metadata": {
        "id": "5MYs8nif8wq8"
      },
      "execution_count": null,
      "outputs": []
    },
    {
      "cell_type": "code",
      "source": [
        "#Compile the model to train the datas\n",
        "model.compile(loss='categorical_crossentropy',optimizer='nadam',metrics=['accuracy'])"
      ],
      "metadata": {
        "id": "YBqYXi4M9nom"
      },
      "execution_count": null,
      "outputs": []
    },
    {
      "cell_type": "code",
      "source": [
        "#Converting the numerical to float\n",
        "x_train_reshaped = x_train_reshaped.astype('float32')\n",
        "x_test_reshaped= x_test_reshaped.astype('float32')"
      ],
      "metadata": {
        "id": "AMjCwBNy93ll"
      },
      "execution_count": null,
      "outputs": []
    },
    {
      "cell_type": "code",
      "source": [
        "x_train_reshaped"
      ],
      "metadata": {
        "id": "cWZqEYx-yKyh"
      },
      "execution_count": null,
      "outputs": []
    },
    {
      "cell_type": "code",
      "source": [
        "#Divide the pixels range form 0 to 1\n",
        "x_train_reshaped /= 255\n",
        "x_test_reshaped /= 255"
      ],
      "metadata": {
        "id": "TCj2xw3Q98rx"
      },
      "execution_count": null,
      "outputs": []
    },
    {
      "cell_type": "code",
      "source": [
        "from keras.utils import to_categorical\n",
        "y_train_one_hot = to_categorical(y_train, num_classes)\n",
        "y_test_one_hot = to_categorical(y_test, num_classes)"
      ],
      "metadata": {
        "id": "wjOj1kzq-PeG"
      },
      "execution_count": null,
      "outputs": []
    },
    {
      "cell_type": "code",
      "source": [
        "print(x_test_reshaped.shape)\n",
        "print(y_test_one_hot.shape)\n",
        "print(x_train_reshaped.shape)\n",
        "print(y_train_one_hot.shape)"
      ],
      "metadata": {
        "id": "pDsKR1z_-kr_"
      },
      "execution_count": null,
      "outputs": []
    },
    {
      "cell_type": "code",
      "source": [
        "model.fit(x_train, y_train_one_hot, batch_size=batchsize , epochs=epoch, validation_data=(x_test, y_test_one_hot))\n"
      ],
      "metadata": {
        "id": "gUbawo8N-AQK"
      },
      "execution_count": null,
      "outputs": []
    },
    {
      "cell_type": "code",
      "source": [
        "model.save('Cifar__CNN.h5')"
      ],
      "metadata": {
        "id": "rIzpyNxZ-HQS"
      },
      "execution_count": null,
      "outputs": []
    },
    {
      "cell_type": "code",
      "source": [
        "p=model.predict(x_train)\n",
        "p"
      ],
      "metadata": {
        "id": "BJuwdXX8B1Km"
      },
      "execution_count": null,
      "outputs": []
    },
    {
      "cell_type": "code",
      "source": [
        "p[0]"
      ],
      "metadata": {
        "id": "ph3j46niDXmQ"
      },
      "execution_count": null,
      "outputs": []
    },
    {
      "cell_type": "code",
      "source": [
        "arr=np.argmax(p[1])"
      ],
      "metadata": {
        "id": "1vV-oSwXDip8"
      },
      "execution_count": null,
      "outputs": []
    },
    {
      "cell_type": "code",
      "source": [
        "arr"
      ],
      "metadata": {
        "id": "ChMH77J-lpp4"
      },
      "execution_count": null,
      "outputs": []
    },
    {
      "cell_type": "code",
      "source": [
        "y_train[1][0]"
      ],
      "metadata": {
        "id": "RflZBLdCDk9K"
      },
      "execution_count": null,
      "outputs": []
    },
    {
      "cell_type": "code",
      "source": [
        "model.save('cifar_Cnn.h5')"
      ],
      "metadata": {
        "id": "e3_wf8BdDnS_"
      },
      "execution_count": null,
      "outputs": []
    },
    {
      "cell_type": "code",
      "source": [
        "from PIL import Image"
      ],
      "metadata": {
        "id": "0hIOUJdgbfFi"
      },
      "execution_count": 31,
      "outputs": []
    },
    {
      "cell_type": "code",
      "source": [
        "image_array = x_train[1]"
      ],
      "metadata": {
        "id": "l2cNlTn-ch7E"
      },
      "execution_count": 36,
      "outputs": []
    },
    {
      "cell_type": "code",
      "source": [
        "image = Image.fromarray(np.uint8(image_array))"
      ],
      "metadata": {
        "id": "lCk1cT7XcmKQ"
      },
      "execution_count": 37,
      "outputs": []
    },
    {
      "cell_type": "code",
      "source": [
        "image.show()"
      ],
      "metadata": {
        "colab": {
          "base_uri": "https://localhost:8080/",
          "height": 49
        },
        "id": "blQsuNxNcqLJ",
        "outputId": "392d9bab-9a45-4b43-d65d-89c9f32e35df"
      },
      "execution_count": 38,
      "outputs": [
        {
          "output_type": "display_data",
          "data": {
            "text/plain": [
              "<PIL.Image.Image image mode=RGB size=32x32 at 0x7A4DE1571840>"
            ],
            "image/png": "[encoded data removed]"
          },
          "metadata": {}
        }
      ]
    },
    {
      "cell_type": "code",
      "source": [
        "# Save the image to a file\n",
        "image.save(\"restored_image.png\")\n"
      ],
      "metadata": {
        "id": "hcVZZx3Pct5t"
      },
      "execution_count": 39,
      "outputs": []
    },
    {
      "cell_type": "code",
      "source": [],
      "metadata": {
        "id": "y7SUMgH2c7tf"
      },
      "execution_count": null,
      "outputs": []
    }
  ]
}