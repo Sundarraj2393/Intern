{
  "nbformat": 4,
  "nbformat_minor": 0,
  "metadata": {
    "colab": {
      "provenance": [],
      "gpuType": "T4"
    },
    "kernelspec": {
      "name": "python3",
      "display_name": "Python 3"
    },
    "language_info": {
      "name": "python"
    },
    "accelerator": "GPU"
  },
  "cells": [
    {
      "cell_type": "code",
      "execution_count": null,
      "metadata": {
        "id": "1Ck5jHea5anf"
      },
      "outputs": [],
      "source": [
        "#To upload the Dataset\n",
        "import tensorflow as tf\n",
        "from tensorflow import keras\n",
        "import numpy as np\n",
        "import pandas as pd\n",
        "from keras import backend as K\n",
        "#for model Building\n",
        "#Sequential is to build the model layer by layer\n",
        "from keras.models import Sequential\n",
        "from keras.layers import Conv2D, MaxPooling2D\n",
        "#Dense is used to represents fully connected Layer\n",
        "from keras.layers import Dense, Dropout, Activation, Flatten"
      ]
    },
    {
      "cell_type": "code",
      "source": [
        "#load the Dataset\n",
        "tf.keras.datasets.cifar100.load_data(label_mode='fine')"
      ],
      "metadata": {
        "colab": {
          "base_uri": "https://localhost:8080/"
        },
        "id": "dXKoMI_s54Bk",
        "outputId": "cb965839-86d4-420b-863e-542b6bfc0df3"
      },
      "execution_count": null,
      "outputs": [
        {
          "output_type": "execute_result",
          "data": {
            "text/plain": [
              "((array([[[[255, 255, 255],\n",
              "           [255, 255, 255],\n",
              "           [255, 255, 255],\n",
              "           ...,\n",
              "           [195, 205, 193],\n",
              "           [212, 224, 204],\n",
              "           [182, 194, 167]],\n",
              "  \n",
              "          [[255, 255, 255],\n",
              "           [254, 254, 254],\n",
              "           [254, 254, 254],\n",
              "           ...,\n",
              "           [170, 176, 150],\n",
              "           [161, 168, 130],\n",
              "           [146, 154, 113]],\n",
              "  \n",
              "          [[255, 255, 255],\n",
              "           [254, 254, 254],\n",
              "           [255, 255, 255],\n",
              "           ...,\n",
              "           [189, 199, 169],\n",
              "           [166, 178, 130],\n",
              "           [121, 133,  87]],\n",
              "  \n",
              "          ...,\n",
              "  \n",
              "          [[148, 185,  79],\n",
              "           [142, 182,  57],\n",
              "           [140, 179,  60],\n",
              "           ...,\n",
              "           [ 30,  17,   1],\n",
              "           [ 65,  62,  15],\n",
              "           [ 76,  77,  20]],\n",
              "  \n",
              "          [[122, 157,  66],\n",
              "           [120, 155,  58],\n",
              "           [126, 160,  71],\n",
              "           ...,\n",
              "           [ 22,  16,   3],\n",
              "           [ 97, 112,  56],\n",
              "           [141, 161,  87]],\n",
              "  \n",
              "          [[ 87, 122,  41],\n",
              "           [ 88, 122,  39],\n",
              "           [101, 134,  56],\n",
              "           ...,\n",
              "           [ 34,  36,  10],\n",
              "           [105, 133,  59],\n",
              "           [138, 173,  79]]],\n",
              "  \n",
              "  \n",
              "         [[[255, 255, 255],\n",
              "           [253, 253, 253],\n",
              "           [253, 253, 253],\n",
              "           ...,\n",
              "           [253, 253, 253],\n",
              "           [253, 253, 253],\n",
              "           [255, 255, 255]],\n",
              "  \n",
              "          [[255, 255, 255],\n",
              "           [255, 255, 255],\n",
              "           [255, 255, 255],\n",
              "           ...,\n",
              "           [255, 255, 255],\n",
              "           [255, 255, 255],\n",
              "           [255, 255, 255]],\n",
              "  \n",
              "          [[255, 255, 255],\n",
              "           [255, 255, 255],\n",
              "           [255, 255, 255],\n",
              "           ...,\n",
              "           [255, 255, 255],\n",
              "           [255, 255, 255],\n",
              "           [255, 255, 255]],\n",
              "  \n",
              "          ...,\n",
              "  \n",
              "          [[255, 255, 255],\n",
              "           [255, 255, 255],\n",
              "           [255, 255, 255],\n",
              "           ...,\n",
              "           [255, 255, 255],\n",
              "           [255, 255, 255],\n",
              "           [255, 255, 255]],\n",
              "  \n",
              "          [[255, 255, 255],\n",
              "           [255, 255, 255],\n",
              "           [255, 255, 255],\n",
              "           ...,\n",
              "           [255, 255, 255],\n",
              "           [255, 255, 255],\n",
              "           [255, 255, 255]],\n",
              "  \n",
              "          [[255, 255, 255],\n",
              "           [253, 253, 253],\n",
              "           [253, 253, 253],\n",
              "           ...,\n",
              "           [253, 253, 253],\n",
              "           [253, 253, 253],\n",
              "           [255, 255, 255]]],\n",
              "  \n",
              "  \n",
              "         [[[250, 250, 248],\n",
              "           [248, 249, 243],\n",
              "           [247, 248, 239],\n",
              "           ...,\n",
              "           [250, 250, 246],\n",
              "           [250, 250, 246],\n",
              "           [249, 250, 246]],\n",
              "  \n",
              "          [[250, 251, 245],\n",
              "           [248, 249, 238],\n",
              "           [247, 247, 234],\n",
              "           ...,\n",
              "           [251, 251, 242],\n",
              "           [251, 252, 243],\n",
              "           [250, 251, 243]],\n",
              "  \n",
              "          [[251, 251, 244],\n",
              "           [250, 248, 237],\n",
              "           [250, 245, 233],\n",
              "           ...,\n",
              "           [250, 249, 238],\n",
              "           [250, 249, 240],\n",
              "           [250, 249, 242]],\n",
              "  \n",
              "          ...,\n",
              "  \n",
              "          [[221, 213, 191],\n",
              "           [221, 206, 176],\n",
              "           [225, 207, 181],\n",
              "           ...,\n",
              "           [199, 176, 134],\n",
              "           [207, 193, 165],\n",
              "           [233, 229, 226]],\n",
              "  \n",
              "          [[225, 223, 204],\n",
              "           [227, 219, 196],\n",
              "           [229, 216, 200],\n",
              "           ...,\n",
              "           [204, 185, 151],\n",
              "           [212, 201, 180],\n",
              "           [234, 232, 228]],\n",
              "  \n",
              "          [[233, 233, 226],\n",
              "           [234, 232, 224],\n",
              "           [235, 230, 225],\n",
              "           ...,\n",
              "           [219, 209, 194],\n",
              "           [223, 216, 207],\n",
              "           [232, 230, 228]]],\n",
              "  \n",
              "  \n",
              "         ...,\n",
              "  \n",
              "  \n",
              "         [[[248, 244, 242],\n",
              "           [240, 232, 223],\n",
              "           [236, 232, 223],\n",
              "           ...,\n",
              "           [233, 229, 222],\n",
              "           [230, 228, 222],\n",
              "           [238, 237, 233]],\n",
              "  \n",
              "          [[225, 213, 204],\n",
              "           [186, 167, 149],\n",
              "           [175, 159, 140],\n",
              "           ...,\n",
              "           [163, 148, 134],\n",
              "           [156, 144, 133],\n",
              "           [192, 184, 176]],\n",
              "  \n",
              "          [[209, 194, 179],\n",
              "           [144, 120,  95],\n",
              "           [139, 115,  87],\n",
              "           ...,\n",
              "           [109,  86,  67],\n",
              "           [109,  90,  76],\n",
              "           [157, 145, 135]],\n",
              "  \n",
              "          ...,\n",
              "  \n",
              "          [[161, 159, 153],\n",
              "           [ 39,  34,  28],\n",
              "           [ 28,  20,  14],\n",
              "           ...,\n",
              "           [ 93,  72,  53],\n",
              "           [ 85,  67,  50],\n",
              "           [136, 126, 115]],\n",
              "  \n",
              "          [[181, 179, 172],\n",
              "           [ 86,  83,  77],\n",
              "           [ 71,  68,  62],\n",
              "           ...,\n",
              "           [122, 103,  89],\n",
              "           [105,  92,  82],\n",
              "           [151, 145, 141]],\n",
              "  \n",
              "          [[224, 223, 218],\n",
              "           [180, 180, 175],\n",
              "           [173, 172, 167],\n",
              "           ...,\n",
              "           [196, 187, 180],\n",
              "           [183, 178, 174],\n",
              "           [204, 205, 205]]],\n",
              "  \n",
              "  \n",
              "         [[[156, 154, 137],\n",
              "           [151, 146, 123],\n",
              "           [151, 144, 125],\n",
              "           ...,\n",
              "           [155, 150, 129],\n",
              "           [152, 148, 125],\n",
              "           [186, 184, 163]],\n",
              "  \n",
              "          [[110, 106,  77],\n",
              "           [116, 108,  62],\n",
              "           [114, 101,  57],\n",
              "           ...,\n",
              "           [116, 106,  61],\n",
              "           [111, 103,  56],\n",
              "           [134, 129,  92]],\n",
              "  \n",
              "          [[116, 112,  82],\n",
              "           [124, 118,  66],\n",
              "           [128, 118,  67],\n",
              "           ...,\n",
              "           [ 99,  84,  43],\n",
              "           [101,  87,  43],\n",
              "           [129, 118,  86]],\n",
              "  \n",
              "          ...,\n",
              "  \n",
              "          [[109, 101,  74],\n",
              "           [112, 100,  54],\n",
              "           [118, 105,  62],\n",
              "           ...,\n",
              "           [126, 113,  65],\n",
              "           [126, 111,  61],\n",
              "           [138, 124,  89]],\n",
              "  \n",
              "          [[ 98,  92,  63],\n",
              "           [ 93,  82,  35],\n",
              "           [ 96,  83,  38],\n",
              "           ...,\n",
              "           [112,  96,  47],\n",
              "           [109,  92,  45],\n",
              "           [127, 113,  80]],\n",
              "  \n",
              "          [[170, 167, 145],\n",
              "           [160, 153, 118],\n",
              "           [163, 152, 119],\n",
              "           ...,\n",
              "           [161, 151, 114],\n",
              "           [156, 144, 107],\n",
              "           [163, 154, 126]]],\n",
              "  \n",
              "  \n",
              "         [[[ 31,  67, 122],\n",
              "           [ 30,  68, 124],\n",
              "           [ 31,  69, 126],\n",
              "           ...,\n",
              "           [ 32,  70, 129],\n",
              "           [ 32,  70, 125],\n",
              "           [ 32,  69, 122]],\n",
              "  \n",
              "          [[ 29,  68, 126],\n",
              "           [ 28,  69, 128],\n",
              "           [ 30,  69, 130],\n",
              "           ...,\n",
              "           [ 32,  70, 131],\n",
              "           [ 32,  69, 127],\n",
              "           [ 31,  69, 124]],\n",
              "  \n",
              "          [[ 30,  67, 126],\n",
              "           [ 29,  68, 128],\n",
              "           [ 30,  69, 130],\n",
              "           ...,\n",
              "           [ 32,  72, 132],\n",
              "           [ 31,  70, 130],\n",
              "           [ 30,  69, 127]],\n",
              "  \n",
              "          ...,\n",
              "  \n",
              "          [[ 39,  41,  76],\n",
              "           [ 38,  42,  76],\n",
              "           [ 38,  44,  78],\n",
              "           ...,\n",
              "           [ 39,  44,  79],\n",
              "           [ 38,  42,  77],\n",
              "           [ 39,  41,  76]],\n",
              "  \n",
              "          [[ 40,  39,  73],\n",
              "           [ 39,  40,  74],\n",
              "           [ 39,  41,  76],\n",
              "           ...,\n",
              "           [ 39,  41,  76],\n",
              "           [ 40,  41,  74],\n",
              "           [ 40,  39,  73]],\n",
              "  \n",
              "          [[ 40,  39,  70],\n",
              "           [ 40,  39,  71],\n",
              "           [ 40,  39,  72],\n",
              "           ...,\n",
              "           [ 41,  38,  72],\n",
              "           [ 39,  38,  69],\n",
              "           [ 40,  37,  67]]]], dtype=uint8),\n",
              "  array([[19],\n",
              "         [29],\n",
              "         [ 0],\n",
              "         ...,\n",
              "         [ 3],\n",
              "         [ 7],\n",
              "         [73]])),\n",
              " (array([[[[199, 215, 249],\n",
              "           [196, 211, 244],\n",
              "           [195, 210, 243],\n",
              "           ...,\n",
              "           [216, 231, 250],\n",
              "           [217, 231, 250],\n",
              "           [224, 234, 252]],\n",
              "  \n",
              "          [[197, 210, 239],\n",
              "           [195, 208, 238],\n",
              "           [195, 210, 240],\n",
              "           ...,\n",
              "           [231, 243, 250],\n",
              "           [233, 243, 250],\n",
              "           [241, 245, 253]],\n",
              "  \n",
              "          [[222, 226, 246],\n",
              "           [213, 220, 242],\n",
              "           [209, 219, 243],\n",
              "           ...,\n",
              "           [243, 250, 251],\n",
              "           [244, 249, 251],\n",
              "           [250, 250, 253]],\n",
              "  \n",
              "          ...,\n",
              "  \n",
              "          [[ 72,  73,  99],\n",
              "           [ 71,  74, 102],\n",
              "           [ 74,  78, 108],\n",
              "           ...,\n",
              "           [220, 208, 217],\n",
              "           [183, 168, 181],\n",
              "           [155, 141, 150]],\n",
              "  \n",
              "          [[ 72,  75, 104],\n",
              "           [ 76,  81, 111],\n",
              "           [ 84,  89, 122],\n",
              "           ...,\n",
              "           [222, 212, 220],\n",
              "           [187, 174, 192],\n",
              "           [145, 132, 149]],\n",
              "  \n",
              "          [[ 80,  85, 118],\n",
              "           [ 84,  90, 123],\n",
              "           [ 85,  92, 127],\n",
              "           ...,\n",
              "           [217, 207, 215],\n",
              "           [207, 194, 211],\n",
              "           [176, 164, 183]]],\n",
              "  \n",
              "  \n",
              "         [[[113, 130,  98],\n",
              "           [ 88, 105,  73],\n",
              "           [ 72,  89,  58],\n",
              "           ...,\n",
              "           [105, 124,  93],\n",
              "           [ 86, 106,  74],\n",
              "           [ 63,  82,  55]],\n",
              "  \n",
              "          [[ 95, 113,  80],\n",
              "           [ 78,  97,  64],\n",
              "           [ 62,  80,  49],\n",
              "           ...,\n",
              "           [103, 122,  84],\n",
              "           [ 89, 109,  70],\n",
              "           [ 65,  83,  49]],\n",
              "  \n",
              "          [[ 79,  97,  62],\n",
              "           [ 65,  82,  49],\n",
              "           [ 52,  67,  37],\n",
              "           ...,\n",
              "           [ 65,  79,  52],\n",
              "           [ 62,  79,  51],\n",
              "           [ 49,  64,  38]],\n",
              "  \n",
              "          ...,\n",
              "  \n",
              "          [[121, 102,  86],\n",
              "           [127, 108,  96],\n",
              "           [139, 121, 111],\n",
              "           ...,\n",
              "           [ 80, 100,  71],\n",
              "           [ 75,  95,  68],\n",
              "           [ 66,  85,  62]],\n",
              "  \n",
              "          [[170, 145, 131],\n",
              "           [167, 145, 132],\n",
              "           [159, 140, 128],\n",
              "           ...,\n",
              "           [100, 113,  84],\n",
              "           [ 89, 103,  77],\n",
              "           [ 73,  87,  64]],\n",
              "  \n",
              "          [[168, 150, 135],\n",
              "           [170, 152, 137],\n",
              "           [173, 156, 141],\n",
              "           ...,\n",
              "           [118, 123,  96],\n",
              "           [ 99, 106,  80],\n",
              "           [ 84,  92,  67]]],\n",
              "  \n",
              "  \n",
              "         [[[ 61,  90, 120],\n",
              "           [ 61,  89, 119],\n",
              "           [ 67,  96, 125],\n",
              "           ...,\n",
              "           [ 70,  93, 124],\n",
              "           [ 64,  87, 118],\n",
              "           [ 64,  88, 119]],\n",
              "  \n",
              "          [[ 67,  97, 127],\n",
              "           [ 78, 108, 138],\n",
              "           [ 80, 109, 139],\n",
              "           ...,\n",
              "           [ 95, 113, 142],\n",
              "           [ 83, 101, 129],\n",
              "           [ 83, 102, 130]],\n",
              "  \n",
              "          [[ 64,  93, 123],\n",
              "           [ 66,  95, 125],\n",
              "           [ 61,  90, 120],\n",
              "           ...,\n",
              "           [120, 134, 160],\n",
              "           [109, 123, 150],\n",
              "           [112, 126, 152]],\n",
              "  \n",
              "          ...,\n",
              "  \n",
              "          [[ 84,  87,  87],\n",
              "           [ 67,  59,  38],\n",
              "           [ 84,  78,  33],\n",
              "           ...,\n",
              "           [204, 167, 160],\n",
              "           [235, 202, 192],\n",
              "           [236, 206, 193]],\n",
              "  \n",
              "          [[ 72,  64,  54],\n",
              "           [ 70,  54,  30],\n",
              "           [ 84,  79,  40],\n",
              "           ...,\n",
              "           [199, 157, 152],\n",
              "           [190, 150, 142],\n",
              "           [196, 161, 149]],\n",
              "  \n",
              "          [[ 72,  61,  47],\n",
              "           [ 76,  64,  35],\n",
              "           [ 77,  74,  37],\n",
              "           ...,\n",
              "           [227, 191, 189],\n",
              "           [155, 119, 115],\n",
              "           [134,  98,  89]]],\n",
              "  \n",
              "  \n",
              "         ...,\n",
              "  \n",
              "  \n",
              "         [[[ 24,  38,  31],\n",
              "           [ 24,  40,  31],\n",
              "           [ 22,  34,  28],\n",
              "           ...,\n",
              "           [ 56,  59,  55],\n",
              "           [ 35,  40,  37],\n",
              "           [ 25,  35,  32]],\n",
              "  \n",
              "          [[ 19,  29,  26],\n",
              "           [ 28,  45,  35],\n",
              "           [ 25,  40,  29],\n",
              "           ...,\n",
              "           [ 55,  57,  58],\n",
              "           [ 38,  42,  44],\n",
              "           [ 36,  44,  39]],\n",
              "  \n",
              "          [[ 23,  38,  28],\n",
              "           [ 31,  51,  35],\n",
              "           [ 29,  50,  32],\n",
              "           ...,\n",
              "           [ 33,  41,  36],\n",
              "           [ 33,  37,  41],\n",
              "           [ 42,  49,  44]],\n",
              "  \n",
              "          ...,\n",
              "  \n",
              "          [[ 39,  73,  29],\n",
              "           [ 47,  95,  25],\n",
              "           [ 61, 104,  44],\n",
              "           ...,\n",
              "           [ 41,  79,  35],\n",
              "           [ 71, 103,  72],\n",
              "           [ 54,  93,  53]],\n",
              "  \n",
              "          [[ 39,  72,  34],\n",
              "           [ 40,  91,  18],\n",
              "           [ 51,  96,  33],\n",
              "           ...,\n",
              "           [ 33,  70,  24],\n",
              "           [ 67, 100,  62],\n",
              "           [ 61, 101,  55]],\n",
              "  \n",
              "          [[ 48,  89,  33],\n",
              "           [ 37,  83,  17],\n",
              "           [ 46,  91,  24],\n",
              "           ...,\n",
              "           [ 33,  66,  20],\n",
              "           [ 65,  95,  54],\n",
              "           [ 60,  94,  54]]],\n",
              "  \n",
              "  \n",
              "         [[[ 86,  90,  80],\n",
              "           [ 93,  90,  75],\n",
              "           [ 28,  25,  21],\n",
              "           ...,\n",
              "           [ 73,  52,  36],\n",
              "           [ 67,  49,  39],\n",
              "           [ 92,  71,  61]],\n",
              "  \n",
              "          [[ 82,  86,  80],\n",
              "           [ 43,  44,  41],\n",
              "           [ 17,  17,  18],\n",
              "           ...,\n",
              "           [ 65,  42,  28],\n",
              "           [ 34,  23,  16],\n",
              "           [ 56,  41,  33]],\n",
              "  \n",
              "          [[ 64,  66,  60],\n",
              "           [ 25,  27,  26],\n",
              "           [ 39,  39,  39],\n",
              "           ...,\n",
              "           [ 54,  37,  24],\n",
              "           [ 34,  25,  19],\n",
              "           [ 40,  31,  22]],\n",
              "  \n",
              "          ...,\n",
              "  \n",
              "          [[ 43,  43,  39],\n",
              "           [ 87,  82,  70],\n",
              "           [112, 105,  91],\n",
              "           ...,\n",
              "           [130, 130, 123],\n",
              "           [128, 126, 121],\n",
              "           [119, 121, 119]],\n",
              "  \n",
              "          [[ 44,  42,  35],\n",
              "           [ 79,  74,  62],\n",
              "           [ 99,  95,  82],\n",
              "           ...,\n",
              "           [135, 133, 123],\n",
              "           [130, 127, 119],\n",
              "           [121, 120, 114]],\n",
              "  \n",
              "          [[ 85,  82,  70],\n",
              "           [ 97,  91,  77],\n",
              "           [ 90,  88,  76],\n",
              "           ...,\n",
              "           [132, 128, 119],\n",
              "           [129, 124, 115],\n",
              "           [120, 117, 109]]],\n",
              "  \n",
              "  \n",
              "         [[[246, 246, 242],\n",
              "           [240, 238, 232],\n",
              "           [214, 212, 199],\n",
              "           ...,\n",
              "           [ 74,  32,  35],\n",
              "           [ 77,  34,  37],\n",
              "           [ 81,  34,  35]],\n",
              "  \n",
              "          [[210, 205, 196],\n",
              "           [243, 240, 230],\n",
              "           [229, 225, 214],\n",
              "           ...,\n",
              "           [ 75,  33,  35],\n",
              "           [ 79,  35,  38],\n",
              "           [ 83,  34,  36]],\n",
              "  \n",
              "          [[144, 134, 112],\n",
              "           [175, 163, 144],\n",
              "           [158, 144, 130],\n",
              "           ...,\n",
              "           [ 74,  33,  35],\n",
              "           [ 79,  35,  38],\n",
              "           [ 82,  33,  36]],\n",
              "  \n",
              "          ...,\n",
              "  \n",
              "          [[198, 190, 176],\n",
              "           [111, 111,  66],\n",
              "           [ 58,  55,  27],\n",
              "           ...,\n",
              "           [ 62,  81,  41],\n",
              "           [ 72, 100,  41],\n",
              "           [ 80, 107,  49]],\n",
              "  \n",
              "          [[167, 160, 144],\n",
              "           [ 62,  64,  27],\n",
              "           [ 85,  85,  68],\n",
              "           ...,\n",
              "           [ 92, 126,  58],\n",
              "           [143, 183, 104],\n",
              "           [160, 199, 118]],\n",
              "  \n",
              "          [[115, 108,  94],\n",
              "           [ 42,  37,  21],\n",
              "           [139, 136, 127],\n",
              "           ...,\n",
              "           [139, 172, 114],\n",
              "           [167, 204, 141],\n",
              "           [146, 182, 118]]]], dtype=uint8),\n",
              "  array([[49],\n",
              "         [33],\n",
              "         [72],\n",
              "         ...,\n",
              "         [51],\n",
              "         [42],\n",
              "         [70]])))"
            ]
          },
          "metadata": {},
          "execution_count": 31
        }
      ]
    },
    {
      "cell_type": "code",
      "source": [
        "#Split the Dataset into Train and test\n",
        "(x_train, y_train), (x_test, y_test) = keras.datasets.cifar100.load_data()\n",
        "assert x_train.shape == (50000, 32, 32, 3)\n",
        "assert x_test.shape == (10000, 32, 32, 3)\n",
        "assert y_train.shape == (50000, 1)\n",
        "assert y_test.shape == (10000, 1)"
      ],
      "metadata": {
        "id": "kZghIrBA6KQv"
      },
      "execution_count": null,
      "outputs": []
    },
    {
      "cell_type": "code",
      "source": [
        "x_train[0]"
      ],
      "metadata": {
        "id": "iEcESIhmthqv",
        "outputId": "5cdc3a3e-5101-44fd-ad4a-aca7c38c2482",
        "colab": {
          "base_uri": "https://localhost:8080/"
        }
      },
      "execution_count": null,
      "outputs": [
        {
          "output_type": "execute_result",
          "data": {
            "text/plain": [
              "array([[[255, 255, 255],\n",
              "        [255, 255, 255],\n",
              "        [255, 255, 255],\n",
              "        ...,\n",
              "        [195, 205, 193],\n",
              "        [212, 224, 204],\n",
              "        [182, 194, 167]],\n",
              "\n",
              "       [[255, 255, 255],\n",
              "        [254, 254, 254],\n",
              "        [254, 254, 254],\n",
              "        ...,\n",
              "        [170, 176, 150],\n",
              "        [161, 168, 130],\n",
              "        [146, 154, 113]],\n",
              "\n",
              "       [[255, 255, 255],\n",
              "        [254, 254, 254],\n",
              "        [255, 255, 255],\n",
              "        ...,\n",
              "        [189, 199, 169],\n",
              "        [166, 178, 130],\n",
              "        [121, 133,  87]],\n",
              "\n",
              "       ...,\n",
              "\n",
              "       [[148, 185,  79],\n",
              "        [142, 182,  57],\n",
              "        [140, 179,  60],\n",
              "        ...,\n",
              "        [ 30,  17,   1],\n",
              "        [ 65,  62,  15],\n",
              "        [ 76,  77,  20]],\n",
              "\n",
              "       [[122, 157,  66],\n",
              "        [120, 155,  58],\n",
              "        [126, 160,  71],\n",
              "        ...,\n",
              "        [ 22,  16,   3],\n",
              "        [ 97, 112,  56],\n",
              "        [141, 161,  87]],\n",
              "\n",
              "       [[ 87, 122,  41],\n",
              "        [ 88, 122,  39],\n",
              "        [101, 134,  56],\n",
              "        ...,\n",
              "        [ 34,  36,  10],\n",
              "        [105, 133,  59],\n",
              "        [138, 173,  79]]], dtype=uint8)"
            ]
          },
          "metadata": {},
          "execution_count": 33
        }
      ]
    },
    {
      "cell_type": "code",
      "source": [
        "import matplotlib.pyplot as plt\n",
        "def show_samples(data, labels):\n",
        "\tplt.subplots(figsize=(10, 10))\n",
        "\tfor i in range(12):\n",
        "\t\tplt.subplot(3, 4, i+1)\n",
        "\t\tk = np.random.randint(0, data.shape[0])\n",
        "\t\tplt.title(labels[k])\n",
        "\t\tplt.imshow(data[k])\n",
        "\tplt.show()\n",
        "show_samples(x_train, y_train)"
      ],
      "metadata": {
        "colab": {
          "base_uri": "https://localhost:8080/",
          "height": 884
        },
        "id": "MNamWb2X6qS8",
        "outputId": "5b59a415-ca07-4625-c933-b8a716e5cb4a"
      },
      "execution_count": null,
      "outputs": [
        {
          "output_type": "stream",
          "name": "stderr",
          "text": [
            "<ipython-input-34-8849e07d285d>:5: MatplotlibDeprecationWarning: Auto-removal of overlapping axes is deprecated since 3.6 and will be removed two minor releases later; explicitly call ax.remove() as needed.\n",
            "  plt.subplot(3, 4, i+1)\n",
            "/usr/local/lib/python3.10/dist-packages/matplotlib/text.py:1279: FutureWarning: elementwise comparison failed; returning scalar instead, but in the future will perform elementwise comparison\n",
            "  if s != self._text:\n"
          ]
        },
        {
          "output_type": "display_data",
          "data": {
            "text/plain": [
              "<Figure size 1000x1000 with 12 Axes>"
            ],
            "image/png": "[encoded data removed]"
          },
          "metadata": {}
        }
      ]
    },
    {
      "cell_type": "code",
      "source": [
        "#assign the batch_size\n",
        "batchsize = 128\n",
        "#assign the number of classes\n",
        "num_classes = 100\n",
        "#define epoch\n",
        "epoch= 10\n",
        "#define rows and columns\n",
        "img_rows, img_cols = 32, 32"
      ],
      "metadata": {
        "id": "ZZxXCF6K6Qfx"
      },
      "execution_count": null,
      "outputs": []
    },
    {
      "cell_type": "markdown",
      "source": [
        "pre-prossesing"
      ],
      "metadata": {
        "id": "ZdkUNzj57aS9"
      }
    },
    {
      "cell_type": "code",
      "source": [
        "#Shape of the x_train data\n",
        "x_train.shape"
      ],
      "metadata": {
        "colab": {
          "base_uri": "https://localhost:8080/"
        },
        "id": "qi33lA_S7wwm",
        "outputId": "4b436a53-99eb-445e-f974-a7dca92498e7"
      },
      "execution_count": null,
      "outputs": [
        {
          "output_type": "execute_result",
          "data": {
            "text/plain": [
              "(50000, 32, 32, 3)"
            ]
          },
          "metadata": {},
          "execution_count": 36
        }
      ]
    },
    {
      "cell_type": "code",
      "source": [
        "#Shape of the x_test data\n",
        "x_test.shape"
      ],
      "metadata": {
        "colab": {
          "base_uri": "https://localhost:8080/"
        },
        "id": "J-BisDvN78c4",
        "outputId": "3bf37e4e-83e9-4940-a33e-b3c400cfd5c2"
      },
      "execution_count": null,
      "outputs": [
        {
          "output_type": "execute_result",
          "data": {
            "text/plain": [
              "(10000, 32, 32, 3)"
            ]
          },
          "metadata": {},
          "execution_count": 37
        }
      ]
    },
    {
      "cell_type": "code",
      "source": [
        " # reshape the training datas and testing data\n",
        "new_shape = (50000, 32*32*3)\n",
        "new_shape1 = (10000, 32*32*3)\n",
        "x_train_reshaped = x_train.reshape(new_shape)\n",
        "x_test_reshaped = x_test.reshape(new_shape1)\n"
      ],
      "metadata": {
        "id": "NCRQxrwo65U0"
      },
      "execution_count": null,
      "outputs": []
    },
    {
      "cell_type": "code",
      "source": [
        "#Sequential is to build the model layer by layer\n",
        "model = tf.keras.models.Sequential()\n",
        "#First layer\n",
        "model.add(Conv2D(128, (3, 3), padding='same',input_shape=x_train.shape[1:]))\n",
        "model.add(Activation('relu'))\n",
        "#Hidden layer\n",
        "model.add(Conv2D(64, (3, 3), activation='relu'))\n",
        "model.add(Conv2D(32, (3, 3), activation='relu'))\n",
        "\n",
        "model.add(Conv2D(16, (3, 3), activation='relu'))\n",
        "#model.add(Conv2D(32, (3, 3), activation='relu'))\n",
        "\n",
        "#model.add(Conv2D(32, (3, 3), activation='relu'))\n",
        "#model.add(Conv2D(32, (3, 3), activation='relu'))\n",
        "\n",
        "#model.add(Conv2D(32, (3, 3), activation='relu'))\n",
        "#model.add(Conv2D(32, (3, 3), activation='relu'))\n",
        "#pooling layer\n",
        "model.add(MaxPooling2D(pool_size=(2, 2)))\n",
        "model.add(Dropout(0.25))\n",
        "model.add(Flatten())\n",
        "#dense is used to represents fully connected layer\n",
        "model.add(Dense(512))\n",
        "model.add(Activation('relu'))\n",
        "model.add(Dropout(0.5))\n",
        "model.add(Dense(num_classes))\n",
        "model.add(Activation('softmax'))"
      ],
      "metadata": {
        "id": "F5jPx44S7KfH"
      },
      "execution_count": null,
      "outputs": []
    },
    {
      "cell_type": "code",
      "source": [
        "#To show the denmenssions\n",
        "model.summary()"
      ],
      "metadata": {
        "colab": {
          "base_uri": "https://localhost:8080/"
        },
        "id": "5MYs8nif8wq8",
        "outputId": "348298f0-4413-4b2b-8a13-4dd6b9cc3e82"
      },
      "execution_count": null,
      "outputs": [
        {
          "output_type": "stream",
          "name": "stdout",
          "text": [
            "Model: \"sequential_1\"\n",
            "_________________________________________________________________\n",
            " Layer (type)                Output Shape              Param #   \n",
            "=================================================================\n",
            " conv2d_4 (Conv2D)           (None, 32, 32, 128)       3584      \n",
            "                                                                 \n",
            " activation_3 (Activation)   (None, 32, 32, 128)       0         \n",
            "                                                                 \n",
            " conv2d_5 (Conv2D)           (None, 30, 30, 64)        73792     \n",
            "                                                                 \n",
            " conv2d_6 (Conv2D)           (None, 28, 28, 32)        18464     \n",
            "                                                                 \n",
            " conv2d_7 (Conv2D)           (None, 26, 26, 16)        4624      \n",
            "                                                                 \n",
            " max_pooling2d_1 (MaxPooling  (None, 13, 13, 16)       0         \n",
            " 2D)                                                             \n",
            "                                                                 \n",
            " dropout_2 (Dropout)         (None, 13, 13, 16)        0         \n",
            "                                                                 \n",
            " flatten_1 (Flatten)         (None, 2704)              0         \n",
            "                                                                 \n",
            " dense_2 (Dense)             (None, 512)               1384960   \n",
            "                                                                 \n",
            " activation_4 (Activation)   (None, 512)               0         \n",
            "                                                                 \n",
            " dropout_3 (Dropout)         (None, 512)               0         \n",
            "                                                                 \n",
            " dense_3 (Dense)             (None, 100)               51300     \n",
            "                                                                 \n",
            " activation_5 (Activation)   (None, 100)               0         \n",
            "                                                                 \n",
            "=================================================================\n",
            "Total params: 1,536,724\n",
            "Trainable params: 1,536,724\n",
            "Non-trainable params: 0\n",
            "_________________________________________________________________\n"
          ]
        }
      ]
    },
    {
      "cell_type": "code",
      "source": [
        "#Compile the model to train the datas\n",
        "model.compile(loss='categorical_crossentropy',optimizer='nadam',metrics=['accuracy'])"
      ],
      "metadata": {
        "id": "YBqYXi4M9nom"
      },
      "execution_count": null,
      "outputs": []
    },
    {
      "cell_type": "code",
      "source": [
        "#Converting the numerical to float\n",
        "x_train_reshaped = x_train_reshaped.astype('float32')\n",
        "x_test_reshaped= x_test_reshaped.astype('float32')"
      ],
      "metadata": {
        "id": "AMjCwBNy93ll"
      },
      "execution_count": null,
      "outputs": []
    },
    {
      "cell_type": "code",
      "source": [
        "#Divide the pixels range form 0 to 1\n",
        "x_train_reshaped /= 255\n",
        "x_test_reshaped /= 255"
      ],
      "metadata": {
        "id": "TCj2xw3Q98rx"
      },
      "execution_count": null,
      "outputs": []
    },
    {
      "cell_type": "code",
      "source": [
        "from keras.utils import to_categorical\n",
        "y_train_one_hot = to_categorical(y_train, num_classes)\n",
        "y_test_one_hot = to_categorical(y_test, num_classes)"
      ],
      "metadata": {
        "id": "wjOj1kzq-PeG"
      },
      "execution_count": null,
      "outputs": []
    },
    {
      "cell_type": "code",
      "source": [
        "print(x_test_reshaped.shape)\n",
        "print(y_test_one_hot.shape)\n",
        "print(x_train_reshaped.shape)\n",
        "print(y_train_one_hot.shape)"
      ],
      "metadata": {
        "colab": {
          "base_uri": "https://localhost:8080/"
        },
        "id": "pDsKR1z_-kr_",
        "outputId": "5f87ab14-8b5a-4aab-99ee-ff053bb6e69a"
      },
      "execution_count": null,
      "outputs": [
        {
          "output_type": "stream",
          "name": "stdout",
          "text": [
            "(10000, 3072)\n",
            "(10000, 100)\n",
            "(50000, 3072)\n",
            "(50000, 100)\n"
          ]
        }
      ]
    },
    {
      "cell_type": "code",
      "source": [
        "model.fit(x_train, y_train_one_hot, batch_size=batchsize , epochs=epoch, validation_data=(x_test, y_test_one_hot))\n"
      ],
      "metadata": {
        "colab": {
          "base_uri": "https://localhost:8080/"
        },
        "id": "gUbawo8N-AQK",
        "outputId": "afa129dd-46d1-4971-c03a-5bb1c1a2277d"
      },
      "execution_count": null,
      "outputs": [
        {
          "output_type": "stream",
          "name": "stdout",
          "text": [
            "Epoch 1/10\n",
            "391/391 [==============================] - 16s 34ms/step - loss: 4.6589 - accuracy: 0.0389 - val_loss: 4.1164 - val_accuracy: 0.0783\n",
            "Epoch 2/10\n",
            "391/391 [==============================] - 12s 31ms/step - loss: 3.9089 - accuracy: 0.1091 - val_loss: 3.5882 - val_accuracy: 0.1764\n",
            "Epoch 3/10\n",
            "391/391 [==============================] - 11s 27ms/step - loss: 3.5257 - accuracy: 0.1725 - val_loss: 3.2304 - val_accuracy: 0.2370\n",
            "Epoch 4/10\n",
            "391/391 [==============================] - 11s 28ms/step - loss: 3.2397 - accuracy: 0.2193 - val_loss: 3.0336 - val_accuracy: 0.2750\n",
            "Epoch 5/10\n",
            "391/391 [==============================] - 11s 27ms/step - loss: 3.0290 - accuracy: 0.2595 - val_loss: 2.8816 - val_accuracy: 0.3047\n",
            "Epoch 6/10\n",
            "391/391 [==============================] - 11s 27ms/step - loss: 2.8577 - accuracy: 0.2911 - val_loss: 2.8238 - val_accuracy: 0.3114\n",
            "Epoch 7/10\n",
            "391/391 [==============================] - 11s 27ms/step - loss: 2.7196 - accuracy: 0.3186 - val_loss: 2.7178 - val_accuracy: 0.3298\n",
            "Epoch 8/10\n",
            "391/391 [==============================] - 11s 28ms/step - loss: 2.5886 - accuracy: 0.3429 - val_loss: 2.6748 - val_accuracy: 0.3370\n",
            "Epoch 9/10\n",
            "391/391 [==============================] - 11s 27ms/step - loss: 2.4892 - accuracy: 0.3639 - val_loss: 2.6711 - val_accuracy: 0.3361\n",
            "Epoch 10/10\n",
            "391/391 [==============================] - 11s 27ms/step - loss: 2.3928 - accuracy: 0.3818 - val_loss: 2.6468 - val_accuracy: 0.3490\n"
          ]
        },
        {
          "output_type": "execute_result",
          "data": {
            "text/plain": [
              "<keras.callbacks.History at 0x7fa7634e1de0>"
            ]
          },
          "metadata": {},
          "execution_count": 46
        }
      ]
    },
    {
      "cell_type": "code",
      "source": [
        "model.save('Cifar__CNN.h5')"
      ],
      "metadata": {
        "id": "rIzpyNxZ-HQS"
      },
      "execution_count": null,
      "outputs": []
    },
    {
      "cell_type": "code",
      "source": [
        "p=model.predict(x_train)\n",
        "p"
      ],
      "metadata": {
        "colab": {
          "base_uri": "https://localhost:8080/"
        },
        "id": "BJuwdXX8B1Km",
        "outputId": "8d723820-aa4c-4d6e-b7b0-e7258c9fddca"
      },
      "execution_count": null,
      "outputs": [
        {
          "output_type": "stream",
          "name": "stdout",
          "text": [
            "1563/1563 [==============================] - 3s 2ms/step\n"
          ]
        },
        {
          "output_type": "execute_result",
          "data": {
            "text/plain": [
              "array([[5.8976194e-04, 1.8249069e-03, 2.9680131e-03, ..., 1.0606102e-02,\n",
              "        3.6541871e-03, 1.7062766e-03],\n",
              "       [7.5254080e-05, 2.3069369e-05, 4.2220556e-05, ..., 2.9091819e-04,\n",
              "        4.8138183e-05, 6.5384274e-06],\n",
              "       [2.9691386e-01, 1.3268784e-02, 2.1518623e-02, ..., 1.8756693e-03,\n",
              "        1.9937338e-02, 4.7930367e-03],\n",
              "       ...,\n",
              "       [2.9311080e-03, 3.5349239e-04, 1.9133086e-03, ..., 1.7267792e-03,\n",
              "        3.2271531e-03, 1.4201420e-03],\n",
              "       [1.7888774e-04, 3.0147322e-03, 1.5867096e-03, ..., 1.1064085e-03,\n",
              "        1.9018122e-03, 6.5273233e-03],\n",
              "       [2.6971952e-07, 6.7161270e-03, 8.7187882e-06, ..., 1.0423082e-06,\n",
              "        8.8749266e-06, 8.9950841e-03]], dtype=float32)"
            ]
          },
          "metadata": {},
          "execution_count": 48
        }
      ]
    },
    {
      "cell_type": "code",
      "source": [
        "p[0]"
      ],
      "metadata": {
        "colab": {
          "base_uri": "https://localhost:8080/"
        },
        "id": "ph3j46niDXmQ",
        "outputId": "b79738fb-5eac-4b5b-bf60-a7da2902c5f2"
      },
      "execution_count": null,
      "outputs": [
        {
          "output_type": "execute_result",
          "data": {
            "text/plain": [
              "array([5.8976194e-04, 1.8249069e-03, 2.9680131e-03, 1.6332176e-02,\n",
              "       6.7115705e-03, 7.5895566e-04, 6.1666649e-03, 9.6386196e-03,\n",
              "       1.1462689e-02, 1.5177124e-03, 2.2942862e-03, 4.4129803e-03,\n",
              "       6.3139158e-03, 6.0625272e-03, 1.0910135e-02, 7.5419746e-02,\n",
              "       1.1234115e-03, 2.6816567e-03, 1.2351538e-02, 1.7002648e-01,\n",
              "       1.2803641e-04, 9.3974918e-03, 2.7286666e-03, 9.1865659e-05,\n",
              "       6.8302695e-03, 2.0264285e-03, 8.4134135e-03, 8.2885697e-03,\n",
              "       6.5719866e-04, 2.2250699e-02, 9.7490272e-05, 1.3212980e-02,\n",
              "       2.0246743e-03, 3.5733043e-03, 5.1667267e-03, 1.9540454e-03,\n",
              "       1.3049648e-03, 5.3888325e-02, 3.1119183e-02, 4.8429816e-04,\n",
              "       1.9269446e-03, 1.8990269e-02, 4.3246099e-03, 1.4473752e-02,\n",
              "       6.6287816e-03, 1.0056946e-02, 7.6632919e-03, 7.3115370e-04,\n",
              "       1.5857080e-02, 1.2005474e-03, 3.1445031e-03, 1.3239932e-02,\n",
              "       1.1786793e-03, 2.8235937e-04, 3.5861020e-03, 6.6570546e-03,\n",
              "       3.0288924e-03, 1.8798475e-03, 8.7097557e-03, 3.2203582e-03,\n",
              "       1.3765737e-03, 2.0007024e-04, 2.6117596e-03, 9.0156851e-04,\n",
              "       9.4252704e-03, 5.1323720e-03, 1.9942174e-02, 2.6844250e-04,\n",
              "       2.3535153e-04, 1.1706550e-03, 2.4210084e-03, 9.4982126e-05,\n",
              "       1.1698128e-02, 7.0925080e-04, 3.3309185e-03, 5.4471567e-02,\n",
              "       1.1722744e-04, 1.2592684e-02, 1.0083029e-02, 1.7817784e-02,\n",
              "       4.7932151e-03, 7.4568186e-03, 4.8362990e-03, 1.2596932e-03,\n",
              "       2.6173736e-03, 2.3425449e-02, 1.5423240e-03, 2.5147535e-03,\n",
              "       6.8816724e-03, 5.3663813e-02, 5.3214215e-02, 3.2813912e-03,\n",
              "       6.7785555e-03, 4.6015689e-03, 1.3641980e-04, 5.2431336e-04,\n",
              "       1.9175065e-03, 1.0606102e-02, 3.6541871e-03, 1.7062766e-03],\n",
              "      dtype=float32)"
            ]
          },
          "metadata": {},
          "execution_count": 49
        }
      ]
    },
    {
      "cell_type": "code",
      "source": [
        "np.argmax(p[1])"
      ],
      "metadata": {
        "colab": {
          "base_uri": "https://localhost:8080/"
        },
        "id": "1vV-oSwXDip8",
        "outputId": "5533e01e-5760-448c-f160-6767d60d8579"
      },
      "execution_count": null,
      "outputs": [
        {
          "output_type": "execute_result",
          "data": {
            "text/plain": [
              "29"
            ]
          },
          "metadata": {},
          "execution_count": 50
        }
      ]
    },
    {
      "cell_type": "code",
      "source": [
        "y_train[1][0]"
      ],
      "metadata": {
        "colab": {
          "base_uri": "https://localhost:8080/"
        },
        "id": "RflZBLdCDk9K",
        "outputId": "8278ffa8-6192-488c-fa64-e112f5eb083c"
      },
      "execution_count": null,
      "outputs": [
        {
          "output_type": "execute_result",
          "data": {
            "text/plain": [
              "29"
            ]
          },
          "metadata": {},
          "execution_count": 51
        }
      ]
    },
    {
      "cell_type": "code",
      "source": [
        "model.save('cifar_Cnn.h5')"
      ],
      "metadata": {
        "id": "e3_wf8BdDnS_"
      },
      "execution_count": null,
      "outputs": []
    },
    {
      "cell_type": "code",
      "source": [
        "from PIL import Image\n",
        "import numpy as np\n",
        "img_w, img_h = 200, 200\n",
        "data = np.zeros((img_h, img_w, 3), dtype=np.uint8)\n",
        "data[100, 100] = [255, 0, 0]\n",
        "img = Image.fromarray(data, 'RGB')\n",
        "img.save('test.png')\n",
        "img.show()"
      ],
      "metadata": {
        "id": "mqFjxEoWn0TT"
      },
      "execution_count": null,
      "outputs": []
    },
    {
      "cell_type": "code",
      "source": [
        "!pip install gradio"
      ],
      "metadata": {
        "colab": {
          "base_uri": "https://localhost:8080/"
        },
        "id": "dVsasTEnUaTL",
        "outputId": "ee0ac459-680b-427b-8680-2834129a2f8f"
      },
      "execution_count": null,
      "outputs": [
        {
          "output_type": "stream",
          "name": "stdout",
          "text": [
            "Requirement already satisfied: gradio in /usr/local/lib/python3.10/dist-packages (3.35.2)\n",
            "Requirement already satisfied: aiofiles in /usr/local/lib/python3.10/dist-packages (from gradio) (23.1.0)\n",
            "Requirement already satisfied: aiohttp in /usr/local/lib/python3.10/dist-packages (from gradio) (3.8.4)\n",
            "Requirement already satisfied: altair>=4.2.0 in /usr/local/lib/python3.10/dist-packages (from gradio) (4.2.2)\n",
            "Requirement already satisfied: fastapi in /usr/local/lib/python3.10/dist-packages (from gradio) (0.99.1)\n",
            "Requirement already satisfied: ffmpy in /usr/local/lib/python3.10/dist-packages (from gradio) (0.3.0)\n",
            "Requirement already satisfied: gradio-client>=0.2.7 in /usr/local/lib/python3.10/dist-packages (from gradio) (0.2.7)\n",
            "Requirement already satisfied: httpx in /usr/local/lib/python3.10/dist-packages (from gradio) (0.24.1)\n",
            "Requirement already satisfied: huggingface-hub>=0.14.0 in /usr/local/lib/python3.10/dist-packages (from gradio) (0.15.1)\n",
            "Requirement already satisfied: jinja2 in /usr/local/lib/python3.10/dist-packages (from gradio) (3.1.2)\n",
            "Requirement already satisfied: markdown-it-py[linkify]>=2.0.0 in /usr/local/lib/python3.10/dist-packages (from gradio) (2.2.0)\n",
            "Requirement already satisfied: markupsafe in /usr/local/lib/python3.10/dist-packages (from gradio) (2.1.3)\n",
            "Requirement already satisfied: matplotlib in /usr/local/lib/python3.10/dist-packages (from gradio) (3.7.1)\n",
            "Requirement already satisfied: mdit-py-plugins<=0.3.3 in /usr/local/lib/python3.10/dist-packages (from gradio) (0.3.3)\n",
            "Requirement already satisfied: numpy in /usr/local/lib/python3.10/dist-packages (from gradio) (1.22.4)\n",
            "Requirement already satisfied: orjson in /usr/local/lib/python3.10/dist-packages (from gradio) (3.9.1)\n",
            "Requirement already satisfied: pandas in /usr/local/lib/python3.10/dist-packages (from gradio) (1.5.3)\n",
            "Requirement already satisfied: pillow in /usr/local/lib/python3.10/dist-packages (from gradio) (8.4.0)\n",
            "Requirement already satisfied: pydantic in /usr/local/lib/python3.10/dist-packages (from gradio) (1.10.9)\n",
            "Requirement already satisfied: pydub in /usr/local/lib/python3.10/dist-packages (from gradio) (0.25.1)\n",
            "Requirement already satisfied: pygments>=2.12.0 in /usr/local/lib/python3.10/dist-packages (from gradio) (2.14.0)\n",
            "Requirement already satisfied: python-multipart in /usr/local/lib/python3.10/dist-packages (from gradio) (0.0.6)\n",
            "Requirement already satisfied: pyyaml in /usr/local/lib/python3.10/dist-packages (from gradio) (6.0)\n",
            "Requirement already satisfied: requests in /usr/local/lib/python3.10/dist-packages (from gradio) (2.27.1)\n",
            "Requirement already satisfied: semantic-version in /usr/local/lib/python3.10/dist-packages (from gradio) (2.10.0)\n",
            "Requirement already satisfied: uvicorn>=0.14.0 in /usr/local/lib/python3.10/dist-packages (from gradio) (0.22.0)\n",
            "Requirement already satisfied: websockets>=10.0 in /usr/local/lib/python3.10/dist-packages (from gradio) (11.0.3)\n",
            "Requirement already satisfied: entrypoints in /usr/local/lib/python3.10/dist-packages (from altair>=4.2.0->gradio) (0.4)\n",
            "Requirement already satisfied: jsonschema>=3.0 in /usr/local/lib/python3.10/dist-packages (from altair>=4.2.0->gradio) (4.3.3)\n",
            "Requirement already satisfied: toolz in /usr/local/lib/python3.10/dist-packages (from altair>=4.2.0->gradio) (0.12.0)\n",
            "Requirement already satisfied: fsspec in /usr/local/lib/python3.10/dist-packages (from gradio-client>=0.2.7->gradio) (2023.6.0)\n",
            "Requirement already satisfied: packaging in /usr/local/lib/python3.10/dist-packages (from gradio-client>=0.2.7->gradio) (23.1)\n",
            "Requirement already satisfied: typing-extensions in /usr/local/lib/python3.10/dist-packages (from gradio-client>=0.2.7->gradio) (4.6.3)\n",
            "Requirement already satisfied: filelock in /usr/local/lib/python3.10/dist-packages (from huggingface-hub>=0.14.0->gradio) (3.12.2)\n",
            "Requirement already satisfied: tqdm>=4.42.1 in /usr/local/lib/python3.10/dist-packages (from huggingface-hub>=0.14.0->gradio) (4.65.0)\n",
            "Requirement already satisfied: mdurl~=0.1 in /usr/local/lib/python3.10/dist-packages (from markdown-it-py[linkify]>=2.0.0->gradio) (0.1.2)\n",
            "Requirement already satisfied: linkify-it-py<3,>=1 in /usr/local/lib/python3.10/dist-packages (from markdown-it-py[linkify]>=2.0.0->gradio) (2.0.2)\n",
            "Requirement already satisfied: python-dateutil>=2.8.1 in /usr/local/lib/python3.10/dist-packages (from pandas->gradio) (2.8.2)\n",
            "Requirement already satisfied: pytz>=2020.1 in /usr/local/lib/python3.10/dist-packages (from pandas->gradio) (2022.7.1)\n",
            "Requirement already satisfied: click>=7.0 in /usr/local/lib/python3.10/dist-packages (from uvicorn>=0.14.0->gradio) (8.1.3)\n",
            "Requirement already satisfied: h11>=0.8 in /usr/local/lib/python3.10/dist-packages (from uvicorn>=0.14.0->gradio) (0.14.0)\n",
            "Requirement already satisfied: attrs>=17.3.0 in /usr/local/lib/python3.10/dist-packages (from aiohttp->gradio) (23.1.0)\n",
            "Requirement already satisfied: charset-normalizer<4.0,>=2.0 in /usr/local/lib/python3.10/dist-packages (from aiohttp->gradio) (2.0.12)\n",
            "Requirement already satisfied: multidict<7.0,>=4.5 in /usr/local/lib/python3.10/dist-packages (from aiohttp->gradio) (6.0.4)\n",
            "Requirement already satisfied: async-timeout<5.0,>=4.0.0a3 in /usr/local/lib/python3.10/dist-packages (from aiohttp->gradio) (4.0.2)\n",
            "Requirement already satisfied: yarl<2.0,>=1.0 in /usr/local/lib/python3.10/dist-packages (from aiohttp->gradio) (1.9.2)\n",
            "Requirement already satisfied: frozenlist>=1.1.1 in /usr/local/lib/python3.10/dist-packages (from aiohttp->gradio) (1.3.3)\n",
            "Requirement already satisfied: aiosignal>=1.1.2 in /usr/local/lib/python3.10/dist-packages (from aiohttp->gradio) (1.3.1)\n",
            "Requirement already satisfied: starlette<0.28.0,>=0.27.0 in /usr/local/lib/python3.10/dist-packages (from fastapi->gradio) (0.27.0)\n",
            "Requirement already satisfied: certifi in /usr/local/lib/python3.10/dist-packages (from httpx->gradio) (2023.5.7)\n",
            "Requirement already satisfied: httpcore<0.18.0,>=0.15.0 in /usr/local/lib/python3.10/dist-packages (from httpx->gradio) (0.17.2)\n",
            "Requirement already satisfied: idna in /usr/local/lib/python3.10/dist-packages (from httpx->gradio) (3.4)\n",
            "Requirement already satisfied: sniffio in /usr/local/lib/python3.10/dist-packages (from httpx->gradio) (1.3.0)\n",
            "Requirement already satisfied: contourpy>=1.0.1 in /usr/local/lib/python3.10/dist-packages (from matplotlib->gradio) (1.1.0)\n",
            "Requirement already satisfied: cycler>=0.10 in /usr/local/lib/python3.10/dist-packages (from matplotlib->gradio) (0.11.0)\n",
            "Requirement already satisfied: fonttools>=4.22.0 in /usr/local/lib/python3.10/dist-packages (from matplotlib->gradio) (4.40.0)\n",
            "Requirement already satisfied: kiwisolver>=1.0.1 in /usr/local/lib/python3.10/dist-packages (from matplotlib->gradio) (1.4.4)\n",
            "Requirement already satisfied: pyparsing>=2.3.1 in /usr/local/lib/python3.10/dist-packages (from matplotlib->gradio) (3.1.0)\n",
            "Requirement already satisfied: urllib3<1.27,>=1.21.1 in /usr/local/lib/python3.10/dist-packages (from requests->gradio) (1.26.16)\n",
            "Requirement already satisfied: anyio<5.0,>=3.0 in /usr/local/lib/python3.10/dist-packages (from httpcore<0.18.0,>=0.15.0->httpx->gradio) (3.7.0)\n",
            "Requirement already satisfied: pyrsistent!=0.17.0,!=0.17.1,!=0.17.2,>=0.14.0 in /usr/local/lib/python3.10/dist-packages (from jsonschema>=3.0->altair>=4.2.0->gradio) (0.19.3)\n",
            "Requirement already satisfied: uc-micro-py in /usr/local/lib/python3.10/dist-packages (from linkify-it-py<3,>=1->markdown-it-py[linkify]>=2.0.0->gradio) (1.0.2)\n",
            "Requirement already satisfied: six>=1.5 in /usr/local/lib/python3.10/dist-packages (from python-dateutil>=2.8.1->pandas->gradio) (1.16.0)\n",
            "Requirement already satisfied: exceptiongroup in /usr/local/lib/python3.10/dist-packages (from anyio<5.0,>=3.0->httpcore<0.18.0,>=0.15.0->httpx->gradio) (1.1.1)\n"
          ]
        }
      ]
    },
    {
      "cell_type": "code",
      "source": [
        "import gradio as gr\n",
        "import tensorflow as tf\n",
        "import cv2\n"
      ],
      "metadata": {
        "id": "1KSRkvzqUfob"
      },
      "execution_count": null,
      "outputs": []
    },
    {
      "cell_type": "code",
      "source": [
        "title=\"cifar\""
      ],
      "metadata": {
        "id": "-H37O968Usth"
      },
      "execution_count": null,
      "outputs": []
    },
    {
      "cell_type": "code",
      "source": [
        "model = tf.keras.models.load_model(\"/content/cifar_Cnn.h5\")"
      ],
      "metadata": {
        "id": "VslDAFdSUwmk"
      },
      "execution_count": null,
      "outputs": []
    },
    {
      "cell_type": "code",
      "source": [
        "img_size=32"
      ],
      "metadata": {
        "id": "1U3CCttiVVAy"
      },
      "execution_count": null,
      "outputs": []
    },
    {
      "cell_type": "code",
      "source": [
        "def predict(img):\n",
        "\n",
        "  img = cv2.resize(img, (img_size, img_size))\n",
        "  img = img.reshape(1, img_size, img_size, 1)\n",
        "\n",
        "  preds = model.predict(img)[0]\n",
        "\n",
        "  return {label: float(pred) for label, pred in zip(labels, preds)}\n",
        "\n",
        "label = gr.outputs.Label(num_top_classes=3)"
      ],
      "metadata": {
        "colab": {
          "base_uri": "https://localhost:8080/"
        },
        "id": "ArddRLmyU4Sv",
        "outputId": "8937fba3-dc13-46ad-86bc-4e22473abf4e"
      },
      "execution_count": null,
      "outputs": [
        {
          "output_type": "stream",
          "name": "stderr",
          "text": [
            "/usr/local/lib/python3.10/dist-packages/gradio/outputs.py:197: UserWarning: Usage of gradio.outputs is deprecated, and will not be supported in the future, please import your components from gradio.components\n",
            "  warnings.warn(\n",
            "/usr/local/lib/python3.10/dist-packages/gradio/outputs.py:200: UserWarning: The 'type' parameter has been deprecated. Use the Number component instead.\n",
            "  super().__init__(num_top_classes=num_top_classes, type=type, label=label)\n"
          ]
        }
      ]
    },
    {
      "cell_type": "code",
      "source": [
        "label"
      ],
      "metadata": {
        "id": "opnk60hfVYlu",
        "colab": {
          "base_uri": "https://localhost:8080/"
        },
        "outputId": "b6a0b660-1156-4c3e-f3c2-f405040c4223"
      },
      "execution_count": null,
      "outputs": [
        {
          "output_type": "execute_result",
          "data": {
            "text/plain": [
              "label"
            ]
          },
          "metadata": {},
          "execution_count": 59
        }
      ]
    }
  ]
}